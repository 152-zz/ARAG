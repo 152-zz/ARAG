{
 "cells": [
  {
   "cell_type": "code",
   "execution_count": 1,
   "id": "29261d03-4ea5-4025-8cea-3285e1de4b6c",
   "metadata": {
    "tags": []
   },
   "outputs": [
    {
     "name": "stdout",
     "output_type": "stream",
     "text": [
      "[<Page:1>, <Page:2>, <Page:3>, <Page:4>, <Page:5>, <Page:6>, <Page:7>, <Page:8>, <Page:9>, <Page:10>, <Page:11>, <Page:12>, <Page:13>, <Page:14>, <Page:15>, <Page:16>, <Page:17>, <Page:18>, <Page:19>, <Page:20>, <Page:21>, <Page:22>, <Page:23>, <Page:24>, <Page:25>, <Page:26>, <Page:27>, <Page:28>, <Page:29>, <Page:30>]\n",
      "食物的地方，和其他动物一样以采集现成食物为生，而不是像他们擅长\n",
      "农耕的后代那样通过种养来获得食物。\n",
      "一、从类人猿到人类\n",
      "我们所在的地球围绕着太阳旋转，太阳只不过是我们银河系中数百万颗\n",
      "恒星中的一颗，而银河系又只是整个宇宙几百万个星系中的一个。当本\n",
      "书在以后的章节中回溯人类的经历和追寻人类的思想足迹时，我们一定\n",
      "要记住这个如此悬殊的对比。比较好记的一个类比就是，地球在宇宙当\n",
      "中小得就像太平洋上的一粒尘埃。\n",
      "地球形成于约50亿年以前，但直到距今约40亿年前地球上才出现最早的\n",
      "生命——原生的单细胞生物。尽管在传统上人们都认为那‘种原始的生\n",
      "命也与非生物有着质的区别，但是现在的科学家们都已经不再接受这种\n",
      "将生物与非生物截然分开的观点，而是把牛物看作由非生物自然进化而\n",
      "来的。他们按照组织的分类等级标准将所有的物质加以分类，在这一组\n",
      "织的某一等级上无机物转变成了有机物。更具体地说就是，电子、质子\n",
      "和中子相互结合形成各种原子，各种原子相互结合组成各种分子，各种\n",
      "分子再组成有机化程度不等的聚合体，其中有一类有机聚合体形成了生\n",
      "物。\n",
      "接着生物又从低等级向高等级不断地进化：先由微生物进化到原始植\n",
      "物，如海藻；继而又进化到无脊椎动物，如水母、蠕虫；最终则进化到\n",
      "脊椎动物。这些脊椎动物和其旁系中的某些无脊椎动物及植物一起，于\n",
      "3亿年前左右成功地适应了陆上生活。最早适应陆地生活的是两栖动\n",
      "物，随后是史前时期的大批爬行动物，接着是鸟类，最后则是哺乳类动\n",
      "物。哺乳类动物在生物界占据统治地位已达6000万年。\n",
      "几乎所有的科学家都认同这种说法：人类属于动物王国——更明确地说\n",
      "就是属于灵长类这一目；和人类一起同属于灵长类的还有鼯鼱、狐猴、\n",
      "眼镜猴、猴子及类人猿。好几个研究领域的成果都为这一说法提供了大\n",
      "量证据。解剖学家发现，从总体来看，人类与其他高级动物在骨骼、肌\n",
      "肉和器官构造方面有不少相似之处。胚胎学家注意到，人类的胚眙在不\n",
      "同的生长阶段，显示出某些低等生物的特征，如：胚胎一个月时有半圆\n",
      "形的鳃，两个月时出现发育不全的尾巴。人类学家指出，人类化石连续\n",
      "地显示出人类由普通的类人猿逐步进化的过程。此外其他科学家也发现\n",
      "了许多能够表明人类与其他动物之间联系的类似迹象，如：猿类血液的\n",
      "化学成分和人类的极其相似，猿类和人类身上有共同的寄生物，而且猿\n"
     ]
    }
   ],
   "source": [
    "import pdfplumber\n",
    "file_path = './pdf/history.pdf'\n",
    "pages = []\n",
    "with pdfplumber.open(file_path) as pdf:\n",
    "    for i in range(30):\n",
    "        page = pdf.pages[i]\n",
    "        page.extract_text()\n",
    "        pages.append(page)\n",
    "print(pages)\n",
    "docs = pages[1:]\n",
    "s = docs[25].extract_text()\n",
    "print(s)"
   ]
  },
  {
   "cell_type": "code",
   "execution_count": 2,
   "id": "8f303f93-bdff-42a1-aee4-5fed359db495",
   "metadata": {
    "tags": []
   },
   "outputs": [
    {
     "name": "stderr",
     "output_type": "stream",
     "text": [
      "/root/miniconda3/envs/myconda/lib/python3.10/site-packages/tqdm/auto.py:21: TqdmWarning: IProgress not found. Please update jupyter and ipywidgets. See https://ipywidgets.readthedocs.io/en/stable/user_install.html\n",
      "  from .autonotebook import tqdm as notebook_tqdm\n"
     ]
    }
   ],
   "source": [
    "from llama_index.core.node_parser import SimpleNodeParser\n",
    "from llama_index.core.schema import IndexNode"
   ]
  },
  {
   "cell_type": "code",
   "execution_count": 3,
   "id": "997d4f30-c3e3-4b0d-825c-8fa8e231ed0f",
   "metadata": {
    "tags": []
   },
   "outputs": [
    {
     "name": "stdout",
     "output_type": "stream",
     "text": [
      "955\n",
      "Doc ID: 6c10b7d5-a959-4962-be6f-11ff0630686f\n",
      "Text: 第 7 版推荐序 刘德斌 ( 吉林大学当代国际关系研究中心 ) 翻开这本书，人类的过去就有如一幅由远及近的画卷，一幕幕地展现在\n",
      "读者的面前。这里有人类的起源，文明的嬗变，有帝国的更迭，宗教的 扩散；有对欧亚大陆诸古代文明和古典文明不同命运的宏观思考，也有 1914 年\n",
      "6 月 28 日萨拉热窝事件的详细介绍；有对人性善恶本质的哲学分 析，对文明是 “ 诅咒 ” 还是 “ 福音 ”\n",
      "的辩证评价，也有对世界愈加两极分化 的人道关怀，对人类历史上诸多灾难的渊源 —— 社会变革总是滞后于技 术变革 ——\n",
      "一的忧虑与警示。不同于那种把自己的观点和观念强加给读 者的历史学作品，这本书平心静气，娓娓道来，没有教育人的口吻，却\n",
      "把读者引入到一种求索的境界，让你不由自主地手不释卷。这本书就是 享誉世界几...\n"
     ]
    }
   ],
   "source": [
    "from llama_index.core import SimpleDirectoryReader \n",
    "documents = SimpleDirectoryReader(\"./pdf\").load_data()\n",
    "print(len(documents))\n",
    "print(documents[1])"
   ]
  },
  {
   "cell_type": "code",
   "execution_count": 4,
   "id": "64d01edd-788f-4839-a0d6-3786e7741c50",
   "metadata": {
    "tags": []
   },
   "outputs": [
    {
     "data": {
      "text/plain": [
       "1341"
      ]
     },
     "execution_count": 4,
     "metadata": {},
     "output_type": "execute_result"
    }
   ],
   "source": [
    "from llama_index.core.node_parser import SimpleNodeParser\n",
    "from llama_index.core.schema import IndexNode\n",
    " \n",
    "#创建文档切割器\n",
    "node_parser = SimpleNodeParser.from_defaults(chunk_size=1024)\n",
    "node_parser\n",
    "\n",
    "base_nodes = node_parser.get_nodes_from_documents(documents)\n",
    "len(base_nodes)"
   ]
  },
  {
   "cell_type": "code",
   "execution_count": 5,
   "id": "92d64d72-ce86-43f3-b995-6276ae8d002e",
   "metadata": {
    "tags": []
   },
   "outputs": [],
   "source": [
    "from sentence_transformers import SentenceTransformer\n",
    "embedding_model_path = \"local:./embedding/m3e-base\""
   ]
  },
  {
   "cell_type": "code",
   "execution_count": 6,
   "id": "5af2b70e-cbdf-40fe-81c2-a1c8d759816f",
   "metadata": {
    "tags": []
   },
   "outputs": [
    {
     "name": "stdout",
     "output_type": "stream",
     "text": [
      "LLM is explicitly disabled. Using MockLLM.\n"
     ]
    },
    {
     "name": "stderr",
     "output_type": "stream",
     "text": [
      "/tmp/ipykernel_3310/465363931.py:14: DeprecationWarning: Call to deprecated class method from_defaults. (ServiceContext is deprecated, please use `llama_index.settings.Settings` instead.) -- Deprecated since version 0.10.0.\n",
      "  service_context = ServiceContext.from_defaults(llm=None, embed_model=embed_model)\n"
     ]
    }
   ],
   "source": [
    "from llama_index.core.embeddings import resolve_embed_model\n",
    "from llama_index.core import VectorStoreIndex, ServiceContext\n",
    "embed_model = resolve_embed_model(embedding_model_path)\n",
    " \n",
    "#创建service_context \n",
    "service_context = ServiceContext.from_defaults(llm=None, embed_model=embed_model)"
   ]
  },
  {
   "cell_type": "code",
   "execution_count": 7,
   "id": "7084cc77-4a20-4207-80df-9067f7832a0e",
   "metadata": {
    "tags": []
   },
   "outputs": [],
   "source": [
    "#创建index\n",
    "base_index = VectorStoreIndex(base_nodes, service_context=service_context)\n",
    "#创建检索器\n",
    "base_retriever = base_index.as_retriever(similarity_top_k=2)\n",
    " \n",
    "#检索相关文档\n",
    "retrievals = base_retriever.retrieve(\n",
    "    \"旧石器时代艺术最杰 出的代表就是独树一帜的洞穴壁画，而其中最好的一部分壁画则集中于 法国南部和西班牙西北部。洞穴壁画通常都是取材于野牛、熊、马、犀 牛、猛犸象和野猪等大型动物。\"\n",
    ")"
   ]
  },
  {
   "cell_type": "code",
   "execution_count": 8,
   "id": "ce8ffa14-db38-46ab-bb9c-91b832e4fa79",
   "metadata": {
    "tags": []
   },
   "outputs": [
    {
     "data": {
      "text/markdown": [
       "**Node ID:** 5c49db48-1cce-4beb-bab7-e7c569edb20a<br>**Similarity:** 0.8607542513770363<br>**Text:** 告，我们就会生病、死亡。\n",
       "”7\n",
       "对令人费解的超自然现象的恐惧和对人类能够控制它们的祈盼，不仅在\n",
       "宗教中存在，而且也通过艺术形式被表现了出来。旧石器时代艺术最杰\n",
       "出的代表就是独树一帜的洞穴壁画，而其中最好的一部分壁画则集中于\n",
       "法国南部和西班牙西北部。洞穴壁画通常都是取材于野牛、熊、马、犀\n",
       "牛、猛犸象和野猪等大型动物。这些画作中最好的作品色彩丰富，形象\n",
       "生动，充满活力。不过尽管从画中可以看出绘画者具有非凡的艺术才\n",
       "能，但洞穴壁画的创作却是为了某种实际的用途。原始人一般都居住在\n",
       "山洞前端或洞口附近，但这些画却都绘制在山洞深处最黑暗和最危险的\n",
       "地方。而且这些画往往相互重叠，这表明画家们在绘制它们时并没有想\n",
       "到要把自己的作品保存下来。由此看来，促使旧石器时代的画家们跑到\n",
       "山洞深处把他们狩猎的动物尽可能逼真地绘制出来的原因也就只能\n",
       "是\n",
       "’\n",
       "，他们认为这样做能够使自己得到某种控制猎物的魔力。\n",
       "总之，近来科学家们在各个领域的发现已经足以使我们承认并赞赏我们\n",
       "的史前祖先所创造出来的成就\n",
       "——\n",
       "这些成就构成了整个人类遗产重要而\n",
       "有决定性的部分。我们总以为今天我们在技术领域做得特别成功，但即\n",
       "便是在这个领域，食物采集者也获得了大量的知识，而且这些知识至今\n",
       "仍在我们的生活中起着基础作用。他们对住地环境了如指掌，所以他们\n",
       "能够利用有用的动植物品种，而不去用那些无用或有害的品种。他们发\n",
       "明了许多种工具，包括刀具、斧头、刨子、锤子、锥子以及针。同样\n",
       "地，他们也创造了同样丰富的武器，如矛、投枪、棍棒、盾牌、盔甲、\n",
       "吹箭筒以及弓箭。他们的许多发明创造，诸如不下沉的独木舟、雪做的\n",
       "房子、带梁和桁的独木舟以及下毒技巧，都需要大量的知识和技术。<br>"
      ],
      "text/plain": [
       "<IPython.core.display.Markdown object>"
      ]
     },
     "metadata": {},
     "output_type": "display_data"
    },
    {
     "data": {
      "text/markdown": [
       "**Node ID:** 7c753d37-0d89-4038-929b-d8124cf95316<br>**Similarity:** 0.8158187337795202<br>**Text:** 这幅画附近画的一些别的画表明：这个山洞是当时的一位\n",
       "巫师召集氏族成员、主持宗教仪式的地方，他在这里祈求动物的神灵保\n",
       "佑他们狩猎时能够满载而归，并鼓励氏族成员勇敢地面对种种危险。\n",
       "不过，在旧石器时代，由于生产力十分低下，还供养不起像后来那样等\n",
       "级森严的僧侣统治集团，因而也就不可能产生有着很大社会凝聚力的神\n",
       "学。当时人们着重于个人的幻想，对上帝和神灵的概念都很模糊，而宗\n",
       "教也还没有被当作控制社会的一种上具，人们的利益也不是取决于个人\n",
       "的品行，而是受到了超自然现象的控制。一位爱斯基摩人对北极探险家\n",
       "努特\n",
       "·\n",
       "拉斯穆森说的话就清楚地表明了这一点，他说：\n",
       "“\n",
       "我们相信我们的巫医、我们的魔法师。我们之所以\n",
       "相信他们是因为我们希望自己能够活得长久些，是因\n",
       "为我们不愿受到饥饿的威胁，还因为我们希望生活安\n",
       "全、食物有保障。如果我们不相信魔法师，我们要狩\n",
       "猎的动物就会全无踪影。如果我们不听从他们的劝<br>"
      ],
      "text/plain": [
       "<IPython.core.display.Markdown object>"
      ]
     },
     "metadata": {},
     "output_type": "display_data"
    }
   ],
   "source": [
    "from llama_index.core.response.notebook_utils import display_source_node\n",
    " \n",
    "for n in retrievals:\n",
    "    display_source_node(n, source_length=1500)"
   ]
  },
  {
   "cell_type": "code",
   "execution_count": 9,
   "id": "3304fd0d-89b9-4afc-907a-86286c716f5e",
   "metadata": {
    "tags": []
   },
   "outputs": [
    {
     "data": {
      "text/plain": [
       "[SentenceSplitter(include_metadata=True, include_prev_next_rel=True, callback_manager=<llama_index.core.callbacks.base.CallbackManager object at 0x7f96b6147040>, id_func=<function default_id_func at 0x7f978e4c5000>, chunk_size=128, chunk_overlap=0, separator=' ', paragraph_separator='\\n\\n\\n', secondary_chunking_regex='[^,.;。？！]+[,.;。？！]?'),\n",
       " SentenceSplitter(include_metadata=True, include_prev_next_rel=True, callback_manager=<llama_index.core.callbacks.base.CallbackManager object at 0x7f96b6147610>, id_func=<function default_id_func at 0x7f978e4c5000>, chunk_size=256, chunk_overlap=0, separator=' ', paragraph_separator='\\n\\n\\n', secondary_chunking_regex='[^,.;。？！]+[,.;。？！]?'),\n",
       " SentenceSplitter(include_metadata=True, include_prev_next_rel=True, callback_manager=<llama_index.core.callbacks.base.CallbackManager object at 0x7f96b61471f0>, id_func=<function default_id_func at 0x7f978e4c5000>, chunk_size=512, chunk_overlap=0, separator=' ', paragraph_separator='\\n\\n\\n', secondary_chunking_regex='[^,.;。？！]+[,.;。？！]?')]"
      ]
     },
     "execution_count": 9,
     "metadata": {},
     "output_type": "execute_result"
    }
   ],
   "source": [
    "sub_chunk_sizes = [128, 256, 512]\n",
    "sub_node_parsers = [\n",
    "    SimpleNodeParser.from_defaults(chunk_size=c,chunk_overlap=0) for c in sub_chunk_sizes\n",
    "]\n",
    " \n",
    "sub_node_parsers"
   ]
  },
  {
   "cell_type": "code",
   "execution_count": 10,
   "id": "f226059a-4afc-4cd3-b1f5-a84a7e1bdc90",
   "metadata": {
    "tags": []
   },
   "outputs": [],
   "source": [
    "all_nodes = []\n",
    "for base_node in base_nodes:\n",
    "    for n in sub_node_parsers:\n",
    "        sub_nodes = n.get_nodes_from_documents([base_node])\n",
    "        sub_inodes = [\n",
    "            IndexNode.from_text_node(sn, base_node.node_id) for sn in sub_nodes\n",
    "        ]\n",
    "        all_nodes.extend(sub_inodes)\n",
    " \n",
    "    #添加父节点文档\n",
    "    original_node = IndexNode.from_text_node(base_node, base_node.node_id)\n",
    "    all_nodes.append(original_node)"
   ]
  },
  {
   "cell_type": "code",
   "execution_count": 11,
   "id": "c24f3844-6d6a-4d09-9369-c1e676f9478f",
   "metadata": {
    "tags": []
   },
   "outputs": [
    {
     "data": {
      "text/plain": [
       "19043"
      ]
     },
     "execution_count": 11,
     "metadata": {},
     "output_type": "execute_result"
    }
   ],
   "source": [
    "len(all_nodes)"
   ]
  },
  {
   "cell_type": "code",
   "execution_count": 12,
   "id": "8f7b773f-80fc-4cc9-a3ac-87f9629eb349",
   "metadata": {
    "tags": []
   },
   "outputs": [
    {
     "data": {
      "text/plain": [
       "[IndexNode(id_='14416496-730e-4a17-bcb9-7f62eaa9bc2c', embedding=None, metadata={'page_label': '1', 'file_name': 'history.pdf', 'file_path': '/ChatGLM3/ARAG/pdf/history.pdf', 'file_type': 'application/pdf', 'file_size': 34460663, 'creation_date': '2024-05-24', 'last_modified_date': '2024-05-24'}, excluded_embed_metadata_keys=['file_name', 'file_type', 'file_size', 'creation_date', 'last_modified_date', 'last_accessed_date'], excluded_llm_metadata_keys=['file_name', 'file_type', 'file_size', 'creation_date', 'last_modified_date', 'last_accessed_date'], relationships={<NodeRelationship.SOURCE: '1'>: RelatedNodeInfo(node_id='07ef2d91-bf89-4e34-a088-0452a359fb7e', node_type=<ObjectType.TEXT: '1'>, metadata={'page_label': '1', 'file_name': 'history.pdf', 'file_path': '/ChatGLM3/ARAG/pdf/history.pdf', 'file_type': 'application/pdf', 'file_size': 34460663, 'creation_date': '2024-05-24', 'last_modified_date': '2024-05-24'}, hash='33ea69ff555d479d67e7ba8636a2eb2bfce5512443147fd97722d16825ca2c49')}, text='', start_char_idx=0, end_char_idx=0, text_template='{metadata_str}\\n\\n{content}', metadata_template='{key}: {value}', metadata_seperator='\\n', index_id='07ef2d91-bf89-4e34-a088-0452a359fb7e', obj=None),\n",
       " IndexNode(id_='098702d1-f1fb-4a2c-b373-2800854b5d4f', embedding=None, metadata={'page_label': '1', 'file_name': 'history.pdf', 'file_path': '/ChatGLM3/ARAG/pdf/history.pdf', 'file_type': 'application/pdf', 'file_size': 34460663, 'creation_date': '2024-05-24', 'last_modified_date': '2024-05-24'}, excluded_embed_metadata_keys=['file_name', 'file_type', 'file_size', 'creation_date', 'last_modified_date', 'last_accessed_date'], excluded_llm_metadata_keys=['file_name', 'file_type', 'file_size', 'creation_date', 'last_modified_date', 'last_accessed_date'], relationships={<NodeRelationship.SOURCE: '1'>: RelatedNodeInfo(node_id='07ef2d91-bf89-4e34-a088-0452a359fb7e', node_type=<ObjectType.TEXT: '1'>, metadata={'page_label': '1', 'file_name': 'history.pdf', 'file_path': '/ChatGLM3/ARAG/pdf/history.pdf', 'file_type': 'application/pdf', 'file_size': 34460663, 'creation_date': '2024-05-24', 'last_modified_date': '2024-05-24'}, hash='33ea69ff555d479d67e7ba8636a2eb2bfce5512443147fd97722d16825ca2c49')}, text='', start_char_idx=0, end_char_idx=0, text_template='{metadata_str}\\n\\n{content}', metadata_template='{key}: {value}', metadata_seperator='\\n', index_id='07ef2d91-bf89-4e34-a088-0452a359fb7e', obj=None)]"
      ]
     },
     "execution_count": 12,
     "metadata": {},
     "output_type": "execute_result"
    }
   ],
   "source": [
    "all_nodes[:2]"
   ]
  },
  {
   "cell_type": "code",
   "execution_count": 13,
   "id": "2ffeb336-287c-405f-8ad5-6cfe1389b1f9",
   "metadata": {
    "tags": []
   },
   "outputs": [
    {
     "name": "stdout",
     "output_type": "stream",
     "text": [
      "\u001b[1;3;34mRetrieving with query id None: 旧石器时代艺术最杰 出的代表就是独树一帜的洞穴壁画，而其中最好的一部分壁画则集中于 法国南部和西班牙西北部。洞穴壁画通常都是取材于野牛、熊、马、犀 牛、猛犸象和野猪等大型动物。\n",
      "\u001b[0m\u001b[1;3;38;5;200mRetrieved node with id, entering: 5c49db48-1cce-4beb-bab7-e7c569edb20a\n",
      "\u001b[0m\u001b[1;3;34mRetrieving with query id 5c49db48-1cce-4beb-bab7-e7c569edb20a: 旧石器时代艺术最杰 出的代表就是独树一帜的洞穴壁画，而其中最好的一部分壁画则集中于 法国南部和西班牙西北部。洞穴壁画通常都是取材于野牛、熊、马、犀 牛、猛犸象和野猪等大型动物。\n",
      "\u001b[0m"
     ]
    },
    {
     "data": {
      "text/markdown": [
       "**Node ID:** 5c49db48-1cce-4beb-bab7-e7c569edb20a<br>**Similarity:** 0.9336664850255554<br>**Text:** 告，我们就会生病、死亡。\n",
       "”7\n",
       "对令人费解的超自然现象的恐惧和对人类能够控制它们的祈盼，不仅在\n",
       "宗教中存在，而且也通过艺术形式被表现了出来。旧石器时代艺术最杰\n",
       "出的代表就是独树一帜的洞穴壁画，而其中最好的一部分壁画则集中于\n",
       "法国南部和西班牙西北部。洞穴壁画通常都是取材于野牛、熊、马、犀\n",
       "牛、猛犸象和野猪等大型动物。这些画作中最好的作品色彩丰富，形象\n",
       "生动，充满活力。不过尽管从画中可以看出绘画者具有非凡的艺术才\n",
       "能，但洞穴壁画的创作却是为了某种实际的用途。原始人一般都居住在\n",
       "山洞前端或洞口附近，但这些画却都绘制在山洞深处最黑暗和最危险的\n",
       "地方。而且这些画往往相互重叠，这表明画家们在绘制它们时并没有想\n",
       "到要把自己的作品保存下来。由此看来，促使旧石器时代的画家们跑到\n",
       "山洞深处把他们狩猎的动物尽可能逼真地绘制出来的原因也就只能\n",
       "是\n",
       "’\n",
       "，他们认为这样做能够使自己得到某种控制猎物的魔力。\n",
       "总之，近来科学家们在各个领域的发现已经足以使我们承认并赞赏我们\n",
       "的史前祖先所创造出来的成就\n",
       "——\n",
       "这些成就构成了整个人类遗产重要而\n",
       "有决定性的部分。我们总以为今天我们在技术领域做得特别成功，但即\n",
       "便是在这个领域，食物采集者也获得了大量的知识，而且这些知识至今\n",
       "仍在我们的生活中起着基础作用。他们对住地环境了如指掌，所以他们\n",
       "能够利用有用的动植物品种，而不去用那些无用或有害的品种。他们发\n",
       "明了许多种工具，包括刀具、斧头、刨子、锤子、锥子以及针。同样\n",
       "地，他们也创造了同样丰富的武器，如矛、投枪、棍棒、盾牌、盔甲、\n",
       "吹箭筒以及弓箭。他们的许多发明创造，诸如不下沉的独木舟、雪做的\n",
       "房子、带梁和桁的独木舟以及下毒技巧，都需要大量的知识和技术。<br>"
      ],
      "text/plain": [
       "<IPython.core.display.Markdown object>"
      ]
     },
     "metadata": {},
     "output_type": "display_data"
    }
   ],
   "source": [
    "all_nodes_dict = {n.node_id: n for n in all_nodes}\n",
    "from llama_index.core.retrievers import RecursiveRetriever\n",
    " \n",
    "vector_index_chunk = VectorStoreIndex(\n",
    "    all_nodes, service_context=service_context\n",
    ")\n",
    " \n",
    "vector_retriever_chunk = vector_index_chunk.as_retriever(similarity_top_k=2)\n",
    " \n",
    "retriever_chunk = RecursiveRetriever(\n",
    "    \"vector\",\n",
    "    retriever_dict={\"vector\": vector_retriever_chunk},\n",
    "    node_dict=all_nodes_dict,\n",
    "    verbose=True,\n",
    ")\n",
    "nodes = retriever_chunk.retrieve(\n",
    "    \"旧石器时代艺术最杰 出的代表就是独树一帜的洞穴壁画，而其中最好的一部分壁画则集中于 法国南部和西班牙西北部。洞穴壁画通常都是取材于野牛、熊、马、犀 牛、猛犸象和野猪等大型动物。\"\n",
    ")\n",
    "for node in nodes:\n",
    "    display_source_node(node, source_length=2000)"
   ]
  },
  {
   "cell_type": "code",
   "execution_count": 14,
   "id": "1dddc46c-4459-4104-abbe-f9fc7717ed47",
   "metadata": {
    "tags": []
   },
   "outputs": [
    {
     "data": {
      "text/markdown": [
       "**Node ID:** 5c49db48-1cce-4beb-bab7-e7c569edb20a<br>**Similarity:** 0.9336664850255554<br>**Text:** 告，我们就会生病、死亡。\n",
       "”7\n",
       "对令人费解的超自然现象的恐惧和对人类能够控制它们的祈盼，不仅在\n",
       "宗教中存在，而且也通过艺术形式被表现了出来。旧石器时代艺术最杰\n",
       "出的代表就是独树一帜的洞穴壁画，而其中最好的一部分壁画则集中于\n",
       "法国南部和西班牙西北部。洞穴壁画通常都是取材于野牛、熊、马、犀\n",
       "牛、猛犸象和野猪等大型动物。这些画作中最好的作品色彩丰富，形象\n",
       "生动，充满活力。不过尽管从画中可以看出绘画者具有非凡的艺术才\n",
       "能，但洞穴壁画的创作却是为了某种实际的用途。原始人一般都居住在\n",
       "山洞前端或洞口附近，但这些画却都绘制在山洞深处最黑暗和最危险的\n",
       "地方。而且这些画往往相互重叠，这表明画家们在绘制它们时并没有想\n",
       "到要把自己的作品保存下来。由此看来，促使旧石器时代的画家们跑到\n",
       "山洞深处把他们狩猎的动物尽可能逼真地绘制出来的原因也就只能\n",
       "是\n",
       "’\n",
       "，他们认为这样做能够使自己得到某种控制猎物的魔力。\n",
       "总之，近来科学家们在各个领域的发现已经足以使我们承认并赞赏我们\n",
       "的史前祖先所创造出来的成就\n",
       "——\n",
       "这些成就构成了整个人类遗产重要而\n",
       "有决定性的部分。我们总以为今天我们在技术领域做得特别成功，但即\n",
       "便是在这个领域，食物采集者也获得了大量的知识，而且这些知识至今\n",
       "仍在我们的生活中起着基础作用。他们对住地环境了如指掌，所以他们\n",
       "能够利用有用的动植物品种，而不去用那些无用或有害的品种。他们发\n",
       "明了许多种工具，包括刀具、斧头、刨子、锤子、锥子以及针。同样\n",
       "地，他们也创造了同样丰富的武器，如矛、投枪、棍棒、盾牌、盔甲、\n",
       "吹箭筒以及弓箭。他们的许多发明创造，诸如不下沉的独木舟、雪做的\n",
       "房子、带梁和桁的独木舟以及下毒技巧，都需要大量的知识和技术。<br>"
      ],
      "text/plain": [
       "<IPython.core.display.Markdown object>"
      ]
     },
     "metadata": {},
     "output_type": "display_data"
    }
   ],
   "source": [
    "for node in nodes:\n",
    "    display_source_node(node, source_length=2000)"
   ]
  },
  {
   "cell_type": "code",
   "execution_count": null,
   "id": "51819072-eb64-4e50-b525-f70b070acf1e",
   "metadata": {
    "tags": []
   },
   "outputs": [],
   "source": [
    "save_path = \"./pdf/index.json\"  # 替换为你想要保存的路径\n",
    "vector_index_chunk.storage_context.persist(save_path)"
   ]
  },
  {
   "cell_type": "code",
   "execution_count": null,
   "id": "9914557c-0de7-4e22-9d38-4bda390c0bb5",
   "metadata": {},
   "outputs": [],
   "source": []
  }
 ],
 "metadata": {
  "kernelspec": {
   "display_name": "myconda",
   "language": "python",
   "name": "myconda"
  },
  "language_info": {
   "codemirror_mode": {
    "name": "ipython",
    "version": 3
   },
   "file_extension": ".py",
   "mimetype": "text/x-python",
   "name": "python",
   "nbconvert_exporter": "python",
   "pygments_lexer": "ipython3",
   "version": "3.10.12"
  }
 },
 "nbformat": 4,
 "nbformat_minor": 5
}
