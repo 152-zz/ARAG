{
 "cells": [
  {
   "cell_type": "code",
   "execution_count": 5,
   "id": "11e141e8-ec2f-4954-8792-097e8f8bfc90",
   "metadata": {
    "tags": []
   },
   "outputs": [
    {
     "name": "stderr",
     "output_type": "stream",
     "text": [
      "The model is automatically converting to bf16 for faster inference. If you want to disable the automatic precision, please manually add bf16/fp16/fp32=True to \"AutoModelForCausalLM.from_pretrained\".\n",
      "Try importing flash-attention for faster inference...\n",
      "Warning: import flash_attn rotary fail, please install FlashAttention rotary to get higher efficiency https://github.com/Dao-AILab/flash-attention/tree/main/csrc/rotary\n",
      "Warning: import flash_attn rms_norm fail, please install FlashAttention layer_norm to get higher efficiency https://github.com/Dao-AILab/flash-attention/tree/main/csrc/layer_norm\n",
      "Warning: import flash_attn fail, please install FlashAttention to get higher efficiency https://github.com/Dao-AILab/flash-attention\n",
      "Loading checkpoint shards: 100%|██████████| 8/8 [00:01<00:00,  4.72it/s]\n"
     ]
    },
    {
     "name": "stdout",
     "output_type": "stream",
     "text": [
      "人类属于动物王国，确切地说是灵长类目，与鼯鼱、狐猴、眼镜猴、猴子及类人猿等其他灵长类生物共同生活在这个世界上。\n"
     ]
    },
    {
     "data": {
      "text/plain": [
       "'\\ninput_ids = tokenizer(prompt, return_tensors=\"pt\")\\n\\n# 进行推理\\nwith torch.no_grad():\\n    output = model.generate(\\n        input_ids=input_ids.input_ids,\\n        max_length=1000,  # 生成文本的最大长度\\n        num_return_sequences=1,  # 返回的序列数量\\n        do_sample=True,  # 是否进行随机采样，对于创造性文本生成很重要\\n        temperature=1.0,  # 控制生成文本的随机性，较低的值使输出更加确定性\\n        top_p=0.95,  # nucleus sampling参数，与temperature一起控制生成的多样性\\n    )\\n\\n# 输出后处理\\ngenerated_text = tokenizer.decode(output[0], skip_special_tokens=True)\\nprint(generated_text)\\n'"
      ]
     },
     "execution_count": 5,
     "metadata": {},
     "output_type": "execute_result"
    }
   ],
   "source": [
    "from transformers import AutoModelForCausalLM, AutoTokenizer\n",
    "import torch\n",
    "\n",
    "model_name = \"./Qwen-7B-Chat\"\n",
    "tokenizer = AutoTokenizer.from_pretrained(model_name,trust_remote_code=True)\n",
    "# 注意：如果模型是用于文本生成的（如GPT风格的模型），应该使用AutoModelForCausalLM\n",
    "model = AutoModelForCausalLM.from_pretrained(model_name,trust_remote_code=True)\n",
    "\n",
    "# 输入文本预处理\n",
    "prompt = \"将这句话转述一下：人类属于动物王国——更明确地说\\\n",
    "就是属于灵长类这一目；和人类一起同属于灵长类的还有鼯鼱、狐猴\\\n",
    "眼镜猴、猴子及类人猿。\"\n",
    "response, history = model.chat(tokenizer, prompt, history=None)\n",
    "print(response)\n",
    "'''\n",
    "input_ids = tokenizer(prompt, return_tensors=\"pt\")\n",
    "\n",
    "# 进行推理\n",
    "with torch.no_grad():\n",
    "    output = model.generate(\n",
    "        input_ids=input_ids.input_ids,\n",
    "        max_length=1000,  # 生成文本的最大长度\n",
    "        num_return_sequences=1,  # 返回的序列数量\n",
    "        do_sample=True,  # 是否进行随机采样，对于创造性文本生成很重要\n",
    "        temperature=1.0,  # 控制生成文本的随机性，较低的值使输出更加确定性\n",
    "        top_p=0.95,  # nucleus sampling参数，与temperature一起控制生成的多样性\n",
    "    )\n",
    "\n",
    "# 输出后处理\n",
    "generated_text = tokenizer.decode(output[0], skip_special_tokens=True)\n",
    "print(generated_text)\n",
    "'''"
   ]
  },
  {
   "cell_type": "code",
   "execution_count": 6,
   "id": "a3ba32f7-42b8-4c49-8739-c37ac295cd51",
   "metadata": {
    "tags": []
   },
   "outputs": [
    {
     "name": "stderr",
     "output_type": "stream",
     "text": [
      "Both `max_new_tokens` (=512) and `max_length`(=400) seem to have been set. `max_new_tokens` will take precedence. Please refer to the documentation for more information. (https://huggingface.co/docs/transformers/main/en/main_classes/text_generation)\n"
     ]
    },
    {
     "name": "stdout",
     "output_type": "stream",
     "text": [
      "地球形成于约50亿年以前，但直到距今约40亿年前地球上才出现最早的生命——原生的单细胞生物。将这句话转述一下。\n",
      "\n",
      "1. 将原话进行压缩，保留关键信息；\n",
      "2. 用不同的句子结构重新组织表达意思。\n",
      "\n",
      "压缩后的转述：约50亿年前形成了地球，40亿年前才出现了生命。\n",
      "\n",
      "改写后的转述：尽管地球的形成可以追溯至50亿年前，但直到大约40亿年前，我们才首次观察到生命的迹象。这些最初的生命形式是简单的单细胞生物。\n"
     ]
    }
   ],
   "source": [
    "# 进行推理\n",
    "prompt = \"地球形成于约50亿年以前，但直到距今约40亿年前地球上才出现最早的生命——原生的单细胞生物。将这句话转述一下\"\n",
    "input_ids = tokenizer(prompt, return_tensors=\"pt\")\n",
    "\n",
    "with torch.no_grad():\n",
    "    output = model.generate(\n",
    "        input_ids=input_ids.input_ids,\n",
    "        max_length=400,  # 生成文本的最大长度\n",
    "        num_return_sequences=2,  # 返回的序列数量\n",
    "        do_sample=True,  # 是否进行随机采样，对于创造性文本生成很重要\n",
    "        temperature=1.0,  # 控制生成文本的随机性，较低的值使输出更加确定性\n",
    "        top_p=0.95,  # nucleus sampling参数，与temperature一起控制生成的多样性\n",
    "    )\n",
    "\n",
    "# 输出后处理\n",
    "generated_text = tokenizer.decode(output[0], skip_special_tokens=True)\n",
    "print(generated_text)"
   ]
  },
  {
   "cell_type": "code",
   "execution_count": 7,
   "id": "00ea4e8d-7452-4270-a1e9-d9c90ae7952c",
   "metadata": {
    "tags": []
   },
   "outputs": [],
   "source": [
    "# 删除引用\n",
    "del model\n",
    "del tokenizer\n",
    "\n",
    "# 强制执行垃圾回收\n",
    "import gc\n",
    "gc.collect()\n",
    "\n",
    "# 对于GPU上的TensorFlow或PyTorch，还需要以下操作来释放CUDA缓存\n",
    "import torch\n",
    "torch.cuda.empty_cache()"
   ]
  },
  {
   "cell_type": "code",
   "execution_count": 8,
   "id": "925148e2-e5b0-4081-8fd3-e1ec9ed9eaba",
   "metadata": {
    "tags": []
   },
   "outputs": [
    {
     "name": "stdout",
     "output_type": "stream",
     "text": [
      "finish!\n"
     ]
    }
   ],
   "source": [
    "print('finish!')"
   ]
  },
  {
   "cell_type": "code",
   "execution_count": null,
   "id": "01e93e52-cd3d-412f-8bc3-59bfae0dc360",
   "metadata": {},
   "outputs": [],
   "source": []
  }
 ],
 "metadata": {
  "kernelspec": {
   "display_name": "myconda",
   "language": "python",
   "name": "myconda"
  },
  "language_info": {
   "codemirror_mode": {
    "name": "ipython",
    "version": 3
   },
   "file_extension": ".py",
   "mimetype": "text/x-python",
   "name": "python",
   "nbconvert_exporter": "python",
   "pygments_lexer": "ipython3",
   "version": "3.10.12"
  }
 },
 "nbformat": 4,
 "nbformat_minor": 5
}
